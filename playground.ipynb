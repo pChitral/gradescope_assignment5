{
 "cells": [
  {
   "cell_type": "code",
   "execution_count": 1,
   "metadata": {},
   "outputs": [
    {
     "data": {
      "text/plain": [
       "1"
      ]
     },
     "execution_count": 1,
     "metadata": {},
     "output_type": "execute_result"
    }
   ],
   "source": [
    "a = (1, )\n",
    "len(a)"
   ]
  },
  {
   "cell_type": "code",
   "execution_count": 2,
   "metadata": {},
   "outputs": [
    {
     "data": {
      "text/plain": [
       "1"
      ]
     },
     "execution_count": 2,
     "metadata": {},
     "output_type": "execute_result"
    }
   ],
   "source": [
    "a = ([1,2,23], )\n",
    "len(a)"
   ]
  },
  {
   "cell_type": "code",
   "execution_count": 5,
   "metadata": {},
   "outputs": [],
   "source": [
    "import pandas as pd\n",
    "import sqlite3\n",
    "from sqlite3 import Error\n",
    "def create_connection(db_file, delete_db=False):\n",
    "    import os\n",
    "    if delete_db and os.path.exists(db_file):\n",
    "        os.remove(db_file)\n",
    "\n",
    "    conn = None\n",
    "    try:\n",
    "        conn = sqlite3.connect(db_file)\n",
    "        conn.execute(\"PRAGMA foreign_keys = 1\")\n",
    "    except Error as e:\n",
    "        print(e)\n",
    "\n",
    "    return conn\n",
    "\n",
    "\n",
    "def create_table(conn, create_table_sql):\n",
    "    try:\n",
    "        c = conn.cursor()\n",
    "        c.execute(create_table_sql)\n",
    "    except Error as e:\n",
    "        print(e)\n",
    "\n",
    "\n",
    "def execute_sql_statement(sql_statement, conn):\n",
    "    cur = conn.cursor()\n",
    "    cur.execute(sql_statement)\n",
    "\n",
    "    rows = cur.fetchall()\n",
    "\n",
    "    return rows"
   ]
  },
  {
   "cell_type": "code",
   "execution_count": 31,
   "metadata": {},
   "outputs": [
    {
     "data": {
      "text/plain": [
       "{'exam1': 2016,\n",
       " 'exam10': 2019,\n",
       " 'exam9': 2018,\n",
       " 'exam7': 2017,\n",
       " 'exam4': 2019,\n",
       " 'exam8': 2018,\n",
       " 'exam6': 2017,\n",
       " 'exam5': 2020,\n",
       " 'exam3': 2018,\n",
       " 'exam2': 2017}"
      ]
     },
     "execution_count": 31,
     "metadata": {},
     "output_type": "execute_result"
    }
   ],
   "source": [
    "# Creating our connection with the non_normalized database\n",
    "conn = create_connection('non_normalized.db')\n",
    "\n",
    "# Fetching all the exams in a list\n",
    "sql_statement = \"SELECT DISTINCT Exams from Students ORDER BY Exams\"\n",
    "exams = execute_sql_statement(sql_statement, conn)\n",
    "exams = list(map(lambda row: (row[0]), exams))\n",
    "\n",
    "# Creating a hashmap for exam and year where key is exam and value is the year \n",
    "hasho = {}\n",
    "for exam in exams:\n",
    "    if(\",\" not in exam):\n",
    "        key, value = exam.split(\" \")\n",
    "        if key in hasho:\n",
    "            continue\n",
    "        else:\n",
    "            hasho[key] = int(value.replace(\"(\", \"\").replace(\")\", \"\"))\n",
    "    else:\n",
    "        list_of_exams = exam.split(\",\")\n",
    "        for exam in list_of_exams:\n",
    "            key, value = exam.strip().split()\n",
    "            if key not in hasho:\n",
    "                hasho[key] = int(value.replace(\"(\", \"\").replace(\")\", \"\"))\n",
    "            else:\n",
    "                continue             \n",
    "hasho   \n",
    "    \n",
    "        \n",
    "        \n",
    "    \n"
   ]
  },
  {
   "cell_type": "code",
   "execution_count": 14,
   "metadata": {},
   "outputs": [
    {
     "name": "stdout",
     "output_type": "stream",
     "text": [
      "hi\n"
     ]
    }
   ],
   "source": [
    "for exam in exams:\n",
    "    if(\",\" not in exam):\n",
    "        continue\n",
    "    "
   ]
  },
  {
   "cell_type": "code",
   "execution_count": 24,
   "metadata": {},
   "outputs": [
    {
     "name": "stdout",
     "output_type": "stream",
     "text": [
      "['exam1', '(2016)']\n",
      "['exam10', '(2019)']\n",
      "['exam9', '(2018)']\n",
      "['exam1', '(2016)']\n",
      "['exam9', '(2018)']\n",
      "['exam7', '(2017)']\n",
      "['exam1', '(2016)']\n"
     ]
    }
   ],
   "source": [
    "list_of_exams = exams[1].split(\",\")\n",
    "list_of_exams\n",
    "\n",
    "for exam in list_of_exams:\n",
    "    print(exam.strip().split(\" \"))"
   ]
  },
  {
   "cell_type": "code",
   "execution_count": 28,
   "metadata": {},
   "outputs": [
    {
     "data": {
      "text/plain": [
       "{'exam1': '(2016)',\n",
       " 'exam10': '(2019)',\n",
       " 'exam9': '(2018)',\n",
       " 'exam7': '(2017)',\n",
       " 'exam4': '(2019)',\n",
       " 'exam8': '(2018)',\n",
       " 'exam6': '(2017)',\n",
       " 'exam5': '(2020)',\n",
       " 'exam3': '(2018)',\n",
       " 'exam2': '(2017)'}"
      ]
     },
     "execution_count": 28,
     "metadata": {},
     "output_type": "execute_result"
    }
   ],
   "source": [
    "hasho = {}\n",
    "for exam in exams:\n",
    "    if(\",\" not in exam):\n",
    "        key, value = exam.split(\" \")\n",
    "        if key in hasho:\n",
    "            continue\n",
    "        else:\n",
    "            hasho[key] = value\n",
    "    else:\n",
    "        list_of_exams = exam.split(\",\")\n",
    "        for exam in list_of_exams:\n",
    "            key, value = exam.strip().split()\n",
    "            if key not in hasho:\n",
    "                hasho[key] = value\n",
    "            else:\n",
    "                continue             \n",
    "hasho   \n",
    "    \n",
    "        \n",
    "        \n",
    "    "
   ]
  },
  {
   "cell_type": "code",
   "execution_count": 35,
   "metadata": {},
   "outputs": [
    {
     "data": {
      "text/plain": [
       "[('exam1', 2016),\n",
       " ('exam10', 2019),\n",
       " ('exam9', 2018),\n",
       " ('exam7', 2017),\n",
       " ('exam4', 2019),\n",
       " ('exam8', 2018),\n",
       " ('exam6', 2017),\n",
       " ('exam5', 2020),\n",
       " ('exam3', 2018),\n",
       " ('exam2', 2017)]"
      ]
     },
     "execution_count": 35,
     "metadata": {},
     "output_type": "execute_result"
    }
   ],
   "source": [
    "list_of_tuples_exams_years = []\n",
    "for exam, year in hasho.items():\n",
    "    list_of_tuples_exams_years.append((exam, year))\n",
    "list_of_tuples_exams_years\n",
    "    \n"
   ]
  },
  {
   "cell_type": "code",
   "execution_count": 42,
   "metadata": {},
   "outputs": [
    {
     "name": "stdout",
     "output_type": "stream",
     "text": [
      "('exam1', 2016)\n",
      "________\n",
      "('exam10', 2019)\n",
      "________\n",
      "('exam9', 2018)\n",
      "________\n",
      "('exam7', 2017)\n",
      "________\n",
      "('exam4', 2019)\n",
      "________\n",
      "('exam8', 2018)\n",
      "________\n",
      "('exam6', 2017)\n",
      "________\n",
      "('exam5', 2020)\n",
      "________\n",
      "('exam3', 2018)\n",
      "________\n",
      "('exam2', 2017)\n",
      "________\n"
     ]
    }
   ],
   "source": [
    "for exam_and_year in list_of_tuples_exams_years:\n",
    "    print((exam_and_year[0], exam_and_year[1]))\n",
    "    print(\"________\")\n",
    "    "
   ]
  },
  {
   "cell_type": "code",
   "execution_count": 39,
   "metadata": {},
   "outputs": [
    {
     "data": {
      "text/plain": [
       "int"
      ]
     },
     "execution_count": 39,
     "metadata": {},
     "output_type": "execute_result"
    }
   ],
   "source": [
    "type(list_of_tuples_exams_years[0][1])"
   ]
  },
  {
   "cell_type": "code",
   "execution_count": 37,
   "metadata": {},
   "outputs": [
    {
     "name": "stdout",
     "output_type": "stream",
     "text": [
      "exam1 2016\n",
      "-\n",
      "exam10 2019\n",
      "-\n",
      "exam9 2018\n",
      "-\n",
      "exam7 2017\n",
      "-\n",
      "exam4 2019\n",
      "-\n",
      "exam8 2018\n",
      "-\n",
      "exam6 2017\n",
      "-\n",
      "exam5 2020\n",
      "-\n",
      "exam3 2018\n",
      "-\n",
      "exam2 2017\n",
      "-\n"
     ]
    }
   ],
   "source": []
  },
  {
   "cell_type": "code",
   "execution_count": 38,
   "metadata": {},
   "outputs": [
    {
     "data": {
      "text/plain": [
       "{'exam1': 2016,\n",
       " 'exam10': 2019,\n",
       " 'exam9': 2018,\n",
       " 'exam7': 2017,\n",
       " 'exam4': 2019,\n",
       " 'exam8': 2018,\n",
       " 'exam6': 2017,\n",
       " 'exam5': 2020,\n",
       " 'exam3': 2018,\n",
       " 'exam2': 2017}"
      ]
     },
     "execution_count": 38,
     "metadata": {},
     "output_type": "execute_result"
    }
   ],
   "source": [
    "hasho"
   ]
  },
  {
   "cell_type": "code",
   "execution_count": null,
   "metadata": {},
   "outputs": [],
   "source": [
    "# Creating query to make new Exams Table\n",
    "create_table_sql = \"\"\"CREATE TABLE [Exams] (\n",
    "[Exam] NOT NULL PRIMARY KEY,\n",
    "[Year] INTEGER NOT NULL \n",
    ");\n",
    "\"\"\"\n",
    "# Setting up connection with the normalized db \n",
    "conn_norm = create_connection('normalized.db')\n",
    "\n",
    "# Creating our Exams table \n",
    "create_table(conn_norm, create_table_sql)\n",
    "# conn_norm.close()\n",
    "\n",
    "\n",
    "def insert_exams(conn, values):\n",
    "    sql = ''' INSERT INTO Exams(Exams)\n",
    "            VALUES(?) '''\n",
    "    cur = conn.cursor()\n",
    "    cur.execute(sql, values)\n",
    "    return cur.lastrowid\n",
    "\n",
    "conn_norm = create_connection('normalized.db')\n",
    "with conn_norm:\n",
    "    for exam_and_year in list_of_tuples_exams_years:\n",
    "        insert_exams(conn_norm, exam_and_year)"
   ]
  }
 ],
 "metadata": {
  "kernelspec": {
   "display_name": "Python 3.9.12 ('base')",
   "language": "python",
   "name": "python3"
  },
  "language_info": {
   "codemirror_mode": {
    "name": "ipython",
    "version": 3
   },
   "file_extension": ".py",
   "mimetype": "text/x-python",
   "name": "python",
   "nbconvert_exporter": "python",
   "pygments_lexer": "ipython3",
   "version": "3.9.12"
  },
  "orig_nbformat": 4,
  "vscode": {
   "interpreter": {
    "hash": "cd78fef2128015050713e82ca51c6520b11aee7c9ee8df750520bbbc7384cbaa"
   }
  }
 },
 "nbformat": 4,
 "nbformat_minor": 2
}
