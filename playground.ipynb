{
 "cells": [
  {
   "cell_type": "code",
   "execution_count": 1,
   "metadata": {},
   "outputs": [
    {
     "data": {
      "text/plain": [
       "1"
      ]
     },
     "execution_count": 1,
     "metadata": {},
     "output_type": "execute_result"
    }
   ],
   "source": [
    "a = (1, )\n",
    "len(a)"
   ]
  },
  {
   "cell_type": "code",
   "execution_count": 2,
   "metadata": {},
   "outputs": [
    {
     "data": {
      "text/plain": [
       "1"
      ]
     },
     "execution_count": 2,
     "metadata": {},
     "output_type": "execute_result"
    }
   ],
   "source": [
    "a = ([1,2,23], )\n",
    "len(a)"
   ]
  },
  {
   "cell_type": "code",
   "execution_count": 5,
   "metadata": {},
   "outputs": [],
   "source": [
    "import pandas as pd\n",
    "import sqlite3\n",
    "from sqlite3 import Error\n",
    "def create_connection(db_file, delete_db=False):\n",
    "    import os\n",
    "    if delete_db and os.path.exists(db_file):\n",
    "        os.remove(db_file)\n",
    "\n",
    "    conn = None\n",
    "    try:\n",
    "        conn = sqlite3.connect(db_file)\n",
    "        conn.execute(\"PRAGMA foreign_keys = 1\")\n",
    "    except Error as e:\n",
    "        print(e)\n",
    "\n",
    "    return conn\n",
    "\n",
    "\n",
    "def create_table(conn, create_table_sql):\n",
    "    try:\n",
    "        c = conn.cursor()\n",
    "        c.execute(create_table_sql)\n",
    "    except Error as e:\n",
    "        print(e)\n",
    "\n",
    "\n",
    "def execute_sql_statement(sql_statement, conn):\n",
    "    cur = conn.cursor()\n",
    "    cur.execute(sql_statement)\n",
    "\n",
    "    rows = cur.fetchall()\n",
    "\n",
    "    return rows"
   ]
  },
  {
   "cell_type": "code",
   "execution_count": 31,
   "metadata": {},
   "outputs": [
    {
     "data": {
      "text/plain": [
       "{'exam1': 2016,\n",
       " 'exam10': 2019,\n",
       " 'exam9': 2018,\n",
       " 'exam7': 2017,\n",
       " 'exam4': 2019,\n",
       " 'exam8': 2018,\n",
       " 'exam6': 2017,\n",
       " 'exam5': 2020,\n",
       " 'exam3': 2018,\n",
       " 'exam2': 2017}"
      ]
     },
     "execution_count": 31,
     "metadata": {},
     "output_type": "execute_result"
    }
   ],
   "source": [
    "# Creating our connection with the non_normalized database\n",
    "conn = create_connection('non_normalized.db')\n",
    "\n",
    "# Fetching all the exams in a list\n",
    "sql_statement = \"SELECT DISTINCT Exams from Students ORDER BY Exams\"\n",
    "exams = execute_sql_statement(sql_statement, conn)\n",
    "exams = list(map(lambda row: (row[0]), exams))\n",
    "\n",
    "# Creating a hashmap for exam and year where key is exam and value is the year \n",
    "hasho = {}\n",
    "for exam in exams:\n",
    "    if(\",\" not in exam):\n",
    "        key, value = exam.split(\" \")\n",
    "        if key in hasho:\n",
    "            continue\n",
    "        else:\n",
    "            hasho[key] = int(value.replace(\"(\", \"\").replace(\")\", \"\"))\n",
    "    else:\n",
    "        list_of_exams = exam.split(\",\")\n",
    "        for exam in list_of_exams:\n",
    "            key, value = exam.strip().split()\n",
    "            if key not in hasho:\n",
    "                hasho[key] = int(value.replace(\"(\", \"\").replace(\")\", \"\"))\n",
    "            else:\n",
    "                continue             \n",
    "hasho   \n",
    "    \n",
    "        \n",
    "        \n",
    "    \n"
   ]
  },
  {
   "cell_type": "code",
   "execution_count": 14,
   "metadata": {},
   "outputs": [
    {
     "name": "stdout",
     "output_type": "stream",
     "text": [
      "hi\n"
     ]
    }
   ],
   "source": [
    "for exam in exams:\n",
    "    if(\",\" not in exam):\n",
    "        continue\n",
    "    "
   ]
  },
  {
   "cell_type": "code",
   "execution_count": 24,
   "metadata": {},
   "outputs": [
    {
     "name": "stdout",
     "output_type": "stream",
     "text": [
      "['exam1', '(2016)']\n",
      "['exam10', '(2019)']\n",
      "['exam9', '(2018)']\n",
      "['exam1', '(2016)']\n",
      "['exam9', '(2018)']\n",
      "['exam7', '(2017)']\n",
      "['exam1', '(2016)']\n"
     ]
    }
   ],
   "source": [
    "list_of_exams = exams[1].split(\",\")\n",
    "list_of_exams\n",
    "\n",
    "for exam in list_of_exams:\n",
    "    print(exam.strip().split(\" \"))"
   ]
  },
  {
   "cell_type": "code",
   "execution_count": 28,
   "metadata": {},
   "outputs": [
    {
     "data": {
      "text/plain": [
       "{'exam1': '(2016)',\n",
       " 'exam10': '(2019)',\n",
       " 'exam9': '(2018)',\n",
       " 'exam7': '(2017)',\n",
       " 'exam4': '(2019)',\n",
       " 'exam8': '(2018)',\n",
       " 'exam6': '(2017)',\n",
       " 'exam5': '(2020)',\n",
       " 'exam3': '(2018)',\n",
       " 'exam2': '(2017)'}"
      ]
     },
     "execution_count": 28,
     "metadata": {},
     "output_type": "execute_result"
    }
   ],
   "source": [
    "hasho = {}\n",
    "for exam in exams:\n",
    "    if(\",\" not in exam):\n",
    "        key, value = exam.split(\" \")\n",
    "        if key in hasho:\n",
    "            continue\n",
    "        else:\n",
    "            hasho[key] = value\n",
    "    else:\n",
    "        list_of_exams = exam.split(\",\")\n",
    "        for exam in list_of_exams:\n",
    "            key, value = exam.strip().split()\n",
    "            if key not in hasho:\n",
    "                hasho[key] = value\n",
    "            else:\n",
    "                continue             \n",
    "hasho   \n",
    "    \n",
    "        \n",
    "        \n",
    "    "
   ]
  },
  {
   "cell_type": "code",
   "execution_count": 35,
   "metadata": {},
   "outputs": [
    {
     "data": {
      "text/plain": [
       "[('exam1', 2016),\n",
       " ('exam10', 2019),\n",
       " ('exam9', 2018),\n",
       " ('exam7', 2017),\n",
       " ('exam4', 2019),\n",
       " ('exam8', 2018),\n",
       " ('exam6', 2017),\n",
       " ('exam5', 2020),\n",
       " ('exam3', 2018),\n",
       " ('exam2', 2017)]"
      ]
     },
     "execution_count": 35,
     "metadata": {},
     "output_type": "execute_result"
    }
   ],
   "source": [
    "list_of_tuples_exams_years = []\n",
    "for exam, year in hasho.items():\n",
    "    list_of_tuples_exams_years.append((exam, year))\n",
    "list_of_tuples_exams_years\n",
    "    \n"
   ]
  },
  {
   "cell_type": "code",
   "execution_count": 42,
   "metadata": {},
   "outputs": [
    {
     "name": "stdout",
     "output_type": "stream",
     "text": [
      "('exam1', 2016)\n",
      "________\n",
      "('exam10', 2019)\n",
      "________\n",
      "('exam9', 2018)\n",
      "________\n",
      "('exam7', 2017)\n",
      "________\n",
      "('exam4', 2019)\n",
      "________\n",
      "('exam8', 2018)\n",
      "________\n",
      "('exam6', 2017)\n",
      "________\n",
      "('exam5', 2020)\n",
      "________\n",
      "('exam3', 2018)\n",
      "________\n",
      "('exam2', 2017)\n",
      "________\n"
     ]
    }
   ],
   "source": [
    "for exam_and_year in list_of_tuples_exams_years:\n",
    "    print((exam_and_year[0], exam_and_year[1]))\n",
    "    print(\"________\")\n",
    "    "
   ]
  },
  {
   "cell_type": "code",
   "execution_count": 39,
   "metadata": {},
   "outputs": [
    {
     "data": {
      "text/plain": [
       "int"
      ]
     },
     "execution_count": 39,
     "metadata": {},
     "output_type": "execute_result"
    }
   ],
   "source": [
    "type(list_of_tuples_exams_years[0][1])"
   ]
  },
  {
   "cell_type": "code",
   "execution_count": 37,
   "metadata": {},
   "outputs": [
    {
     "name": "stdout",
     "output_type": "stream",
     "text": [
      "exam1 2016\n",
      "-\n",
      "exam10 2019\n",
      "-\n",
      "exam9 2018\n",
      "-\n",
      "exam7 2017\n",
      "-\n",
      "exam4 2019\n",
      "-\n",
      "exam8 2018\n",
      "-\n",
      "exam6 2017\n",
      "-\n",
      "exam5 2020\n",
      "-\n",
      "exam3 2018\n",
      "-\n",
      "exam2 2017\n",
      "-\n"
     ]
    }
   ],
   "source": []
  },
  {
   "cell_type": "code",
   "execution_count": 38,
   "metadata": {},
   "outputs": [
    {
     "data": {
      "text/plain": [
       "{'exam1': 2016,\n",
       " 'exam10': 2019,\n",
       " 'exam9': 2018,\n",
       " 'exam7': 2017,\n",
       " 'exam4': 2019,\n",
       " 'exam8': 2018,\n",
       " 'exam6': 2017,\n",
       " 'exam5': 2020,\n",
       " 'exam3': 2018,\n",
       " 'exam2': 2017}"
      ]
     },
     "execution_count": 38,
     "metadata": {},
     "output_type": "execute_result"
    }
   ],
   "source": [
    "hasho"
   ]
  },
  {
   "cell_type": "code",
   "execution_count": 43,
   "metadata": {},
   "outputs": [],
   "source": [
    "# # Creating query to make new Exams Table\n",
    "# create_table_sql = \"\"\"CREATE TABLE [Exams] (\n",
    "# [Exam] NOT NULL PRIMARY KEY,\n",
    "# [Year] INTEGER NOT NULL \n",
    "# );\n",
    "# \"\"\"\n",
    "# # Setting up connection with the normalized db \n",
    "# conn_norm = create_connection('normalized.db')\n",
    "\n",
    "# # Creating our Exams table \n",
    "# create_table(conn_norm, create_table_sql)\n",
    "# # conn_norm.close()\n",
    "\n",
    "\n",
    "# def insert_exams(conn, values):\n",
    "#     sql = ''' INSERT INTO Exams(Exams)\n",
    "#             VALUES(?) '''\n",
    "#     cur = conn.cursor()\n",
    "#     cur.execute(sql, values)\n",
    "#     return cur.lastrowid\n",
    "\n",
    "# conn_norm = create_connection('normalized.db')\n",
    "# with conn_norm:\n",
    "#     for exam_and_year in list_of_tuples_exams_years:\n",
    "#         insert_exams(conn_norm, exam_and_year)"
   ]
  },
  {
   "cell_type": "code",
   "execution_count": 70,
   "metadata": {},
   "outputs": [
    {
     "name": "stdout",
     "output_type": "stream",
     "text": [
      "near \")\": syntax error\n"
     ]
    },
    {
     "ename": "OperationalError",
     "evalue": "no such table: main.Degrees",
     "output_type": "error",
     "traceback": [
      "\u001b[0;31m---------------------------------------------------------------------------\u001b[0m",
      "\u001b[0;31mOperationalError\u001b[0m                          Traceback (most recent call last)",
      "\u001b[0;32m/var/folders/q4/72ybtynd5sjf5ppl_5vpsw080000gn/T/ipykernel_21395/3009799067.py\u001b[0m in \u001b[0;36m<module>\u001b[0;34m\u001b[0m\n\u001b[1;32m     46\u001b[0m \u001b[0;32mwith\u001b[0m \u001b[0mconn_norm\u001b[0m\u001b[0;34m:\u001b[0m\u001b[0;34m\u001b[0m\u001b[0;34m\u001b[0m\u001b[0m\n\u001b[1;32m     47\u001b[0m     \u001b[0;32mfor\u001b[0m \u001b[0mi\u001b[0m \u001b[0;32min\u001b[0m \u001b[0mrange\u001b[0m\u001b[0;34m(\u001b[0m\u001b[0mlen\u001b[0m\u001b[0;34m(\u001b[0m\u001b[0mfirst_name\u001b[0m\u001b[0;34m)\u001b[0m\u001b[0;34m)\u001b[0m\u001b[0;34m:\u001b[0m\u001b[0;34m\u001b[0m\u001b[0;34m\u001b[0m\u001b[0m\n\u001b[0;32m---> 48\u001b[0;31m         \u001b[0minsert_students\u001b[0m\u001b[0;34m(\u001b[0m\u001b[0mconn_norm\u001b[0m\u001b[0;34m,\u001b[0m \u001b[0;34m(\u001b[0m\u001b[0mi\u001b[0m\u001b[0;34m,\u001b[0m \u001b[0mfirst_name\u001b[0m\u001b[0;34m[\u001b[0m\u001b[0mi\u001b[0m\u001b[0;34m]\u001b[0m\u001b[0;34m,\u001b[0m \u001b[0mlast_name\u001b[0m\u001b[0;34m[\u001b[0m\u001b[0mi\u001b[0m\u001b[0;34m]\u001b[0m\u001b[0;34m,\u001b[0m \u001b[0mdegree_list\u001b[0m\u001b[0;34m[\u001b[0m\u001b[0mi\u001b[0m\u001b[0;34m]\u001b[0m\u001b[0;34m)\u001b[0m\u001b[0;34m)\u001b[0m\u001b[0;34m\u001b[0m\u001b[0;34m\u001b[0m\u001b[0m\n\u001b[0m\u001b[1;32m     49\u001b[0m \u001b[0;34m\u001b[0m\u001b[0m\n\u001b[1;32m     50\u001b[0m \u001b[0;34m\u001b[0m\u001b[0m\n",
      "\u001b[0;32m/var/folders/q4/72ybtynd5sjf5ppl_5vpsw080000gn/T/ipykernel_21395/3009799067.py\u001b[0m in \u001b[0;36minsert_students\u001b[0;34m(conn, values)\u001b[0m\n\u001b[1;32m     40\u001b[0m               VALUES(?, ?, ?, ?) '''\n\u001b[1;32m     41\u001b[0m     \u001b[0mcur\u001b[0m \u001b[0;34m=\u001b[0m \u001b[0mconn\u001b[0m\u001b[0;34m.\u001b[0m\u001b[0mcursor\u001b[0m\u001b[0;34m(\u001b[0m\u001b[0;34m)\u001b[0m\u001b[0;34m\u001b[0m\u001b[0;34m\u001b[0m\u001b[0m\n\u001b[0;32m---> 42\u001b[0;31m     \u001b[0mcur\u001b[0m\u001b[0;34m.\u001b[0m\u001b[0mexecute\u001b[0m\u001b[0;34m(\u001b[0m\u001b[0msql\u001b[0m\u001b[0;34m,\u001b[0m \u001b[0mvalues\u001b[0m\u001b[0;34m)\u001b[0m\u001b[0;34m\u001b[0m\u001b[0;34m\u001b[0m\u001b[0m\n\u001b[0m\u001b[1;32m     43\u001b[0m     \u001b[0;32mreturn\u001b[0m \u001b[0mcur\u001b[0m\u001b[0;34m.\u001b[0m\u001b[0mlastrowid\u001b[0m\u001b[0;34m\u001b[0m\u001b[0;34m\u001b[0m\u001b[0m\n\u001b[1;32m     44\u001b[0m \u001b[0;34m\u001b[0m\u001b[0m\n",
      "\u001b[0;31mOperationalError\u001b[0m: no such table: main.Degrees"
     ]
    }
   ],
   "source": [
    "conn = create_connection('non_normalized.db')\n",
    "\n",
    "\n",
    "# Fetching all the degrees in a list\n",
    "sql_statement = \"SELECT Degree from Students\"\n",
    "degrees = execute_sql_statement(sql_statement, conn)\n",
    "degree_list = list(map(lambda row: str(row[0]), degrees))\n",
    "# # Code that return 1 or 2 depending on what degree it is.\n",
    "# degrees = list(map(lambda row: 1 if str(row[0]) == \"graduate\" else 2, degrees))\n",
    "\n",
    "# Fetching students from the non_normalized database\n",
    "sql_statement = \"SELECT Name FROM Students\"\n",
    "\n",
    "student_names = execute_sql_statement(sql_statement, conn)\n",
    "full_names = list(map(lambda row: str(row[0]), student_names))\n",
    "\n",
    "# Splitting the full_name in first_name and last_name and storing it in the list\n",
    "first_name, last_name = [], []\n",
    "\n",
    "for full_name in full_names:\n",
    "    first_name.append(full_name.split(\",\")[0])\n",
    "    last_name.append(full_name.split(\",\")[1].strip())\n",
    "    \n",
    "# That our data is ready, we can create our student table \n",
    "\n",
    "create_table_sql = \"\"\"CREATE TABLE IF NOT EXISTS [Students] (\n",
    "    [StudentID] INTEGER NOT NULL PRIMARY KEY,\n",
    "    [First_Name] TEXT NOT NULL,\n",
    "    [Last_Name] TEXT NOT NULL,\n",
    "    [Degree] TEXT NOT NULL,\n",
    "    FOREIGN KEY(Degree) REFERENCES Degree(Degree) \n",
    ");\n",
    "\"\"\"\n",
    "conn_norm = create_connection('normalized.db')\n",
    "\n",
    "create_table(conn_norm, create_table_sql)\n",
    "\n",
    "def insert_students(conn, values):\n",
    "    sql = ''' INSERT INTO Students (StudentID, First_Name, Last_Name, Degree)\n",
    "              VALUES(?, ?, ?, ?) '''\n",
    "    cur = conn.cursor()\n",
    "    cur.execute(sql, values)\n",
    "    return cur.lastrowid\n",
    "\n",
    "\n",
    "with conn_norm:\n",
    "    for i in range(len(first_name)):\n",
    "        insert_students(conn_norm, (i, first_name[i], last_name[i], degree_list[i]))\n",
    "\n",
    "\n"
   ]
  },
  {
   "cell_type": "code",
   "execution_count": 59,
   "metadata": {},
   "outputs": [
    {
     "data": {
      "text/plain": [
       "['Rodriguez',\n",
       " 'Jackson',\n",
       " 'Curtis',\n",
       " 'Casey',\n",
       " 'Yoder',\n",
       " 'Oliver',\n",
       " 'Oliver',\n",
       " 'Brown',\n",
       " 'Murillo',\n",
       " 'Yang',\n",
       " 'Simmons',\n",
       " 'Griffin',\n",
       " 'Wheeler',\n",
       " 'Rojas',\n",
       " 'Trujillo',\n",
       " 'Walker',\n",
       " 'Burke',\n",
       " 'Smith',\n",
       " 'Cherry',\n",
       " 'Rodriguez',\n",
       " 'Ellis',\n",
       " 'Arellano',\n",
       " 'Hunter',\n",
       " 'Bates',\n",
       " 'Valdez',\n",
       " 'Powell',\n",
       " 'Payne',\n",
       " 'Ferrell',\n",
       " 'Mccormick',\n",
       " 'Bowman',\n",
       " 'Rose',\n",
       " 'Carson',\n",
       " 'Wright',\n",
       " 'Howard',\n",
       " 'Palmer',\n",
       " 'Erickson',\n",
       " 'Potter',\n",
       " 'Cooper',\n",
       " 'Black',\n",
       " 'Thompson',\n",
       " 'Cortez',\n",
       " 'Garza',\n",
       " 'Campbell',\n",
       " 'Wilkins',\n",
       " 'Ortiz',\n",
       " 'Guerrero',\n",
       " 'Black',\n",
       " 'Dixon',\n",
       " 'Schaefer',\n",
       " 'Mitchell',\n",
       " 'Martinez',\n",
       " 'Taylor',\n",
       " 'White',\n",
       " 'Nelson',\n",
       " 'Lawrence',\n",
       " 'Gardner',\n",
       " 'King',\n",
       " 'Parker',\n",
       " 'Hall',\n",
       " 'Cisneros',\n",
       " 'Murillo',\n",
       " 'Bryant',\n",
       " 'Young',\n",
       " 'Lamb',\n",
       " 'Higgins',\n",
       " 'Parker',\n",
       " 'Jenkins',\n",
       " 'Mayer',\n",
       " 'Briggs',\n",
       " 'Schultz',\n",
       " 'Evans',\n",
       " 'Willis',\n",
       " 'Smith',\n",
       " 'Evans',\n",
       " 'Martinez',\n",
       " 'Wall',\n",
       " 'Campbell',\n",
       " 'Blackburn',\n",
       " 'Robbins',\n",
       " 'Parsons',\n",
       " 'Wilson',\n",
       " 'Wilson',\n",
       " 'Johnson',\n",
       " 'Pratt',\n",
       " 'Fowler',\n",
       " 'Lowe',\n",
       " 'Miller',\n",
       " 'Lawson',\n",
       " 'Wright',\n",
       " 'Lyons',\n",
       " 'Chapman',\n",
       " 'Perez',\n",
       " 'Davis',\n",
       " 'West',\n",
       " 'Washington',\n",
       " 'Dyer',\n",
       " 'Delgado',\n",
       " 'Cortez',\n",
       " 'Short',\n",
       " 'Andrade']"
      ]
     },
     "execution_count": 59,
     "metadata": {},
     "output_type": "execute_result"
    }
   ],
   "source": [
    "first_name"
   ]
  },
  {
   "cell_type": "code",
   "execution_count": null,
   "metadata": {},
   "outputs": [],
   "source": []
  }
 ],
 "metadata": {
  "kernelspec": {
   "display_name": "Python 3.9.12 ('base')",
   "language": "python",
   "name": "python3"
  },
  "language_info": {
   "codemirror_mode": {
    "name": "ipython",
    "version": 3
   },
   "file_extension": ".py",
   "mimetype": "text/x-python",
   "name": "python",
   "nbconvert_exporter": "python",
   "pygments_lexer": "ipython3",
   "version": "3.9.12"
  },
  "orig_nbformat": 4,
  "vscode": {
   "interpreter": {
    "hash": "cd78fef2128015050713e82ca51c6520b11aee7c9ee8df750520bbbc7384cbaa"
   }
  }
 },
 "nbformat": 4,
 "nbformat_minor": 2
}
